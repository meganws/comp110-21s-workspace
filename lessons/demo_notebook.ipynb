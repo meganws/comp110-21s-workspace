{
 "metadata": {
  "language_info": {
   "codemirror_mode": {
    "name": "ipython",
    "version": 3
   },
   "file_extension": ".py",
   "mimetype": "text/x-python",
   "name": "python",
   "nbconvert_exporter": "python",
   "pygments_lexer": "ipython3",
   "version": "3.9.1-final"
  },
  "orig_nbformat": 2,
  "kernelspec": {
   "name": "python3",
   "display_name": "Python 3.9.1 64-bit",
   "metadata": {
    "interpreter": {
     "hash": "21d81943a98b272e9c08a45960ea5a09c9f574c9286f09031ab8fb86233879e3"
    }
   }
  }
 },
 "nbformat": 4,
 "nbformat_minor": 2,
 "cells": [
  {
   "source": [
    "# My First Notebook\n",
    "\n",
    "This cell wil render as _rich-formatted text_ when it is evaluated. In order to make a cell markdown, clock the M-down arrow button on the cell header.\n",
    "\n",
    "## Subheadings and other formats\n",
    "\n",
    "* Bulleted lists\n",
    "* **bolded test**\n",
    "* [Links to web pages](https://google.com)\n",
    "\n",
    "* [Markdown Cheat Sheet](https://www.markdownguide.org/cheat-sheet/)"
   ],
   "cell_type": "markdown",
   "metadata": {}
  },
  {
   "cell_type": "code",
   "execution_count": 9,
   "metadata": {},
   "outputs": [
    {
     "output_type": "stream",
     "name": "stdout",
     "text": [
      "Hello, Kaki.\n"
     ]
    }
   ],
   "source": [
    "user: str = str('Kaki')\n",
    "print(f'Hello, {user}.')"
   ]
  },
  {
   "source": [
    "## Keyboard shortcuts to know\n",
    "\n",
    "`Control + Enter` - Evaluates the curent cell and keeps the focus in the current cell.\n",
    "\n",
    "`Shift + Enter` - Evaluates the current cell and moves focus to the next cell"
   ],
   "cell_type": "markdown",
   "metadata": {}
  },
  {
   "cell_type": "code",
   "execution_count": 12,
   "metadata": {},
   "outputs": [
    {
     "output_type": "stream",
     "name": "stdout",
     "text": [
      "Wow, Megan, you are doing great!\n"
     ]
    }
   ],
   "source": [
    "print(f'Wow, {name}, you are doing great!')"
   ]
  },
  {
   "source": [
    "## The last expression of a cell is printed by default."
   ],
   "cell_type": "markdown",
   "metadata": {}
  },
  {
   "cell_type": "code",
   "execution_count": 19,
   "metadata": {},
   "outputs": [
    {
     "output_type": "stream",
     "name": "stdout",
     "text": [
      "The result is\nMultiple print statements leads to multiple lines in a cell output.\n31.400000000000002\n"
     ]
    }
   ],
   "source": [
    "result: float = 3.14 * 10\n",
    "print(\"The result is\")\n",
    "print(\"Multiple print statements leads to multiple lines in a cell output.\")\n",
    "print(result)"
   ]
  }
 ]
}